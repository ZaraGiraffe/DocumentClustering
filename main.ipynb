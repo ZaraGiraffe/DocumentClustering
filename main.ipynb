{
 "cells": [
  {
   "cell_type": "markdown",
   "source": [
    "## Load models"
   ],
   "metadata": {
    "collapsed": false
   },
   "id": "75bb54ef2cad10ea"
  },
  {
   "cell_type": "code",
   "execution_count": 1,
   "id": "initial_id",
   "metadata": {
    "collapsed": true,
    "ExecuteTime": {
     "end_time": "2024-02-25T12:12:26.884011500Z",
     "start_time": "2024-02-25T12:12:24.891922300Z"
    }
   },
   "outputs": [],
   "source": [
    "from transformers import AutoModelForSequenceClassification, AutoTokenizer, XLMRobertaTokenizerFast\n",
    "import torch"
   ]
  },
  {
   "cell_type": "code",
   "execution_count": 2,
   "outputs": [],
   "source": [
    "model_checkpoint = \"FacebookAI/xlm-roberta-base\"\n",
    "num_classes = 15"
   ],
   "metadata": {
    "collapsed": false,
    "ExecuteTime": {
     "end_time": "2024-02-25T12:12:26.888420200Z",
     "start_time": "2024-02-25T12:12:26.888420200Z"
    }
   },
   "id": "1070f0eece76beaa"
  },
  {
   "cell_type": "code",
   "execution_count": 3,
   "outputs": [
    {
     "name": "stderr",
     "output_type": "stream",
     "text": [
      "Some weights of XLMRobertaForSequenceClassification were not initialized from the model checkpoint at FacebookAI/xlm-roberta-base and are newly initialized: ['classifier.out_proj.bias', 'classifier.dense.bias', 'classifier.out_proj.weight', 'classifier.dense.weight']\n",
      "You should probably TRAIN this model on a down-stream task to be able to use it for predictions and inference.\n"
     ]
    }
   ],
   "source": [
    "model = AutoModelForSequenceClassification.from_pretrained(model_checkpoint, num_labels=num_classes)"
   ],
   "metadata": {
    "collapsed": false,
    "ExecuteTime": {
     "end_time": "2024-02-25T12:12:28.207286300Z",
     "start_time": "2024-02-25T12:12:26.888420200Z"
    }
   },
   "id": "31c925913f4602fd"
  },
  {
   "cell_type": "code",
   "execution_count": 4,
   "outputs": [],
   "source": [
    "tokenizer = AutoTokenizer.from_pretrained(model_checkpoint)"
   ],
   "metadata": {
    "collapsed": false,
    "ExecuteTime": {
     "end_time": "2024-02-25T12:12:29.068317Z",
     "start_time": "2024-02-25T12:12:28.200281700Z"
    }
   },
   "id": "5b6605c577bfe199"
  },
  {
   "cell_type": "markdown",
   "source": [
    "## Load dataset "
   ],
   "metadata": {
    "collapsed": false
   },
   "id": "2349a5528221ee81"
  },
  {
   "cell_type": "code",
   "execution_count": 5,
   "outputs": [],
   "source": [
    "from utils.loaders import DatasetUA, convert_to_sequences"
   ],
   "metadata": {
    "collapsed": false,
    "ExecuteTime": {
     "end_time": "2024-02-25T12:12:29.613370500Z",
     "start_time": "2024-02-25T12:12:29.071855200Z"
    }
   },
   "id": "2582b46d845d5e00"
  },
  {
   "cell_type": "code",
   "execution_count": 6,
   "outputs": [
    {
     "data": {
      "text/plain": "Generating train split: 0 examples [00:00, ? examples/s]",
      "application/vnd.jupyter.widget-view+json": {
       "version_major": 2,
       "version_minor": 0,
       "model_id": "1aa178045be34322ba192d6e0987f7b8"
      }
     },
     "metadata": {},
     "output_type": "display_data"
    }
   ],
   "source": [
    "dataset_ua_full = DatasetUA(\"DatasetUA\").load().shuffle()\n",
    "dataset_ua = convert_to_sequences(dataset_ua_full).shuffle()"
   ],
   "metadata": {
    "collapsed": false,
    "ExecuteTime": {
     "end_time": "2024-02-25T12:12:30.027024500Z",
     "start_time": "2024-02-25T12:12:29.613370500Z"
    }
   },
   "id": "b18f6efa4ecb63e0"
  },
  {
   "cell_type": "code",
   "execution_count": 7,
   "outputs": [],
   "source": [
    "dataset_ua_splitted = dataset_ua.train_test_split(test_size=0.15)"
   ],
   "metadata": {
    "collapsed": false,
    "ExecuteTime": {
     "end_time": "2024-02-25T12:12:30.052396700Z",
     "start_time": "2024-02-25T12:12:30.028023700Z"
    }
   },
   "id": "34703420a7a644ba"
  },
  {
   "cell_type": "markdown",
   "source": [
    "## Create collator and loader"
   ],
   "metadata": {
    "collapsed": false
   },
   "id": "39ccb3b76b53b00a"
  },
  {
   "cell_type": "code",
   "execution_count": 8,
   "outputs": [],
   "source": [
    "from torch.utils.data import DataLoader\n",
    "from utils.collators import XlmRobertaCollator\n",
    "from utils.meta import label_to_int"
   ],
   "metadata": {
    "collapsed": false,
    "ExecuteTime": {
     "end_time": "2024-02-25T12:12:30.060766Z",
     "start_time": "2024-02-25T12:12:30.052396700Z"
    }
   },
   "id": "d33b6cffff9dd09"
  },
  {
   "cell_type": "code",
   "execution_count": 9,
   "outputs": [],
   "source": [
    "collator = XlmRobertaCollator(tokenizer=tokenizer, label_to_int=label_to_int)"
   ],
   "metadata": {
    "collapsed": false,
    "ExecuteTime": {
     "end_time": "2024-02-25T12:12:30.066964100Z",
     "start_time": "2024-02-25T12:12:30.060766Z"
    }
   },
   "id": "e5fbc67be0af3494"
  },
  {
   "cell_type": "code",
   "execution_count": 10,
   "outputs": [],
   "source": [
    "train_loader = DataLoader(dataset_ua_splitted[\"train\"], batch_size=16, collate_fn=collator)\n",
    "val_loader = DataLoader(dataset_ua_splitted[\"test\"], batch_size=4, collate_fn=collator)"
   ],
   "metadata": {
    "collapsed": false,
    "ExecuteTime": {
     "end_time": "2024-02-25T12:12:30.066964100Z",
     "start_time": "2024-02-25T12:12:30.061270600Z"
    }
   },
   "id": "f2d24fdf1827efe9"
  },
  {
   "cell_type": "markdown",
   "source": [
    "## Train"
   ],
   "metadata": {
    "collapsed": false
   },
   "id": "4ff5947b91f872cb"
  },
  {
   "cell_type": "code",
   "execution_count": 11,
   "outputs": [],
   "source": [
    "from utils.trainers import Trainer, TrainConfig"
   ],
   "metadata": {
    "collapsed": false,
    "ExecuteTime": {
     "end_time": "2024-02-25T12:12:30.923078200Z",
     "start_time": "2024-02-25T12:12:30.856161Z"
    }
   },
   "id": "1dc5012dba4d50f4"
  },
  {
   "cell_type": "code",
   "execution_count": 12,
   "outputs": [],
   "source": [
    "trainer = Trainer(\n",
    "    model=model,\n",
    "    train_loader=train_loader,\n",
    "    val_loader=val_loader,\n",
    "    optimizer=torch.optim.Adam,\n",
    "    config=TrainConfig(),\n",
    ")"
   ],
   "metadata": {
    "collapsed": false,
    "ExecuteTime": {
     "end_time": "2024-02-25T12:12:36.255237300Z",
     "start_time": "2024-02-25T12:12:36.008644700Z"
    }
   },
   "id": "ced056ab28e11840"
  },
  {
   "cell_type": "code",
   "execution_count": 13,
   "outputs": [
    {
     "data": {
      "text/plain": "  0%|          | 0/2 [00:00<?, ?it/s]",
      "application/vnd.jupyter.widget-view+json": {
       "version_major": 2,
       "version_minor": 0,
       "model_id": "ffdbf62e852545678f8dae9934cedb4a"
      }
     },
     "metadata": {},
     "output_type": "display_data"
    },
    {
     "data": {
      "text/plain": "  0%|          | 0/2412 [00:00<?, ?it/s]",
      "application/vnd.jupyter.widget-view+json": {
       "version_major": 2,
       "version_minor": 0,
       "model_id": "780ee3e329f44913a9bc504396945610"
      }
     },
     "metadata": {},
     "output_type": "display_data"
    },
    {
     "data": {
      "text/plain": "  0%|          | 0/1703 [00:00<?, ?it/s]",
      "application/vnd.jupyter.widget-view+json": {
       "version_major": 2,
       "version_minor": 0,
       "model_id": "e68bdeb6037443f984ed877a4aa3bbe8"
      }
     },
     "metadata": {},
     "output_type": "display_data"
    },
    {
     "data": {
      "text/plain": "  0%|          | 0/2412 [00:00<?, ?it/s]",
      "application/vnd.jupyter.widget-view+json": {
       "version_major": 2,
       "version_minor": 0,
       "model_id": "fb26b91fe872440595915543d37af8f7"
      }
     },
     "metadata": {},
     "output_type": "display_data"
    },
    {
     "data": {
      "text/plain": "  0%|          | 0/1703 [00:00<?, ?it/s]",
      "application/vnd.jupyter.widget-view+json": {
       "version_major": 2,
       "version_minor": 0,
       "model_id": "c1eff044e9ec403686354f2da2d7d770"
      }
     },
     "metadata": {},
     "output_type": "display_data"
    },
    {
     "data": {
      "text/plain": "model.pt:   0%|          | 0.00/1.11G [00:00<?, ?B/s]",
      "application/vnd.jupyter.widget-view+json": {
       "version_major": 2,
       "version_minor": 0,
       "model_id": "bfcdd4837f4a4f5aafbf970ff57ba42c"
      }
     },
     "metadata": {},
     "output_type": "display_data"
    },
    {
     "data": {
      "text/plain": "events.out.tfevents.1708863156.zarawindows.11276.0:   0%|          | 0.00/472 [00:00<?, ?B/s]",
      "application/vnd.jupyter.widget-view+json": {
       "version_major": 2,
       "version_minor": 0,
       "model_id": "cd0628fa23ee4400a8ec1f750aff20ef"
      }
     },
     "metadata": {},
     "output_type": "display_data"
    }
   ],
   "source": [
    "trainer.train()"
   ],
   "metadata": {
    "collapsed": false,
    "ExecuteTime": {
     "end_time": "2024-02-25T12:32:53.475102Z",
     "start_time": "2024-02-25T12:12:40.657069Z"
    }
   },
   "id": "a6534cdd361b11c6"
  },
  {
   "cell_type": "markdown",
   "source": [
    "## Predict"
   ],
   "metadata": {
    "collapsed": false
   },
   "id": "2f5a963fe5c10d8a"
  },
  {
   "cell_type": "code",
   "execution_count": 16,
   "outputs": [],
   "source": [
    "from utils.predictors import predict_class_accuracy"
   ],
   "metadata": {
    "collapsed": false,
    "ExecuteTime": {
     "end_time": "2024-02-25T12:39:04.826066Z",
     "start_time": "2024-02-25T12:39:04.826066Z"
    }
   },
   "id": "fa56b0ed30185fd5"
  },
  {
   "cell_type": "code",
   "execution_count": 38,
   "outputs": [
    {
     "data": {
      "text/plain": "  0%|          | 0/1919 [00:00<?, ?it/s]",
      "application/vnd.jupyter.widget-view+json": {
       "version_major": 2,
       "version_minor": 0,
       "model_id": "1be82e2f14264a26b8c3f9fd8756924d"
      }
     },
     "metadata": {},
     "output_type": "display_data"
    },
    {
     "data": {
      "text/plain": "{'business': 0.3492063492063492,\n 'economy': 0.7777777777777778,\n 'education': 0.9375,\n 'fashion': 0.875,\n 'financy': 0.9375,\n 'fun': 0.10784313725490197,\n 'health': 0.8785714285714286,\n 'kino': 0.9285714285714286,\n 'porady': 0.9365079365079365,\n 'realestate': 0.9017857142857143,\n 'show': 0.6492537313432836,\n 'smachnonews': 0.8303571428571429,\n 'sport': 0.9698492462311558,\n 'tech': 0.8125,\n 'zakordon': 0.8690476190476191}"
     },
     "execution_count": 38,
     "metadata": {},
     "output_type": "execute_result"
    }
   ],
   "source": [
    "predict_class_accuracy(dataset_ua_full, model, tokenizer, label_to_int)"
   ],
   "metadata": {
    "collapsed": false,
    "ExecuteTime": {
     "end_time": "2024-02-25T12:52:01.658568700Z",
     "start_time": "2024-02-25T12:49:58.431403600Z"
    }
   },
   "id": "d9c852a36916beee"
  },
  {
   "cell_type": "code",
   "execution_count": null,
   "outputs": [],
   "source": [],
   "metadata": {
    "collapsed": false
   },
   "id": "dc233faf7edee5d8"
  }
 ],
 "metadata": {
  "kernelspec": {
   "display_name": "Python 3",
   "language": "python",
   "name": "python3"
  },
  "language_info": {
   "codemirror_mode": {
    "name": "ipython",
    "version": 2
   },
   "file_extension": ".py",
   "mimetype": "text/x-python",
   "name": "python",
   "nbconvert_exporter": "python",
   "pygments_lexer": "ipython2",
   "version": "2.7.6"
  }
 },
 "nbformat": 4,
 "nbformat_minor": 5
}
