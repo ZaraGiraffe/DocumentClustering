{
 "cells": [
  {
   "cell_type": "code",
   "execution_count": 1,
   "metadata": {},
   "outputs": [],
   "source": [
    "%load_ext autoreload\n",
    "%autoreload 2"
   ]
  },
  {
   "cell_type": "markdown",
   "metadata": {},
   "source": [
    "Important constants"
   ]
  },
  {
   "cell_type": "code",
   "execution_count": 56,
   "metadata": {
    "ExecuteTime": {
     "end_time": "2024-02-19T12:50:24.716258Z",
     "start_time": "2024-02-19T12:50:24.712252300Z"
    }
   },
   "outputs": [],
   "source": [
    "NUM_TERMINS = 50"
   ]
  },
  {
   "cell_type": "markdown",
   "metadata": {},
   "source": [
    "Some frequently used imports"
   ]
  },
  {
   "cell_type": "code",
   "execution_count": 57,
   "metadata": {
    "ExecuteTime": {
     "end_time": "2024-02-19T12:50:25.018810700Z",
     "start_time": "2024-02-19T12:50:25.014934400Z"
    }
   },
   "outputs": [],
   "source": [
    "import numpy as np\n",
    "import pandas as pd"
   ]
  },
  {
   "cell_type": "code",
   "execution_count": 58,
   "metadata": {
    "ExecuteTime": {
     "end_time": "2024-02-19T12:50:25.323885700Z",
     "start_time": "2024-02-19T12:50:25.319381Z"
    }
   },
   "outputs": [],
   "source": [
    "from tqdm.notebook import trange\n",
    "from tqdm.notebook import tqdm"
   ]
  },
  {
   "cell_type": "markdown",
   "metadata": {},
   "source": [
    "Load the dataset and lemmatizer"
   ]
  },
  {
   "cell_type": "code",
   "execution_count": 59,
   "metadata": {
    "ExecuteTime": {
     "end_time": "2024-02-19T12:50:25.639349700Z",
     "start_time": "2024-02-19T12:50:25.633329300Z"
    }
   },
   "outputs": [],
   "source": [
    "from utils.data import Lemmatizer\n",
    "from datasets import Dataset"
   ]
  },
  {
   "cell_type": "code",
   "execution_count": 60,
   "metadata": {
    "ExecuteTime": {
     "end_time": "2024-02-19T12:50:26.212930100Z",
     "start_time": "2024-02-19T12:50:25.779675200Z"
    }
   },
   "outputs": [
    {
     "data": {
      "text/plain": "Generating train split: 0 examples [00:00, ? examples/s]",
      "application/vnd.jupyter.widget-view+json": {
       "version_major": 2,
       "version_minor": 0,
       "model_id": "a0455f45386547e292126ec62eecc6d5"
      }
     },
     "metadata": {},
     "output_type": "display_data"
    }
   ],
   "source": [
    "dataset = Dataset.from_parquet(\"./doc.parquet\")"
   ]
  },
  {
   "cell_type": "code",
   "execution_count": 61,
   "metadata": {
    "ExecuteTime": {
     "end_time": "2024-02-19T12:50:32.912173400Z",
     "start_time": "2024-02-19T12:50:26.212930100Z"
    }
   },
   "outputs": [],
   "source": [
    "lemmatizer = Lemmatizer(\"en\")"
   ]
  },
  {
   "cell_type": "markdown",
   "metadata": {},
   "source": [
    "Fit TfidfVectorizer on the dataset"
   ]
  },
  {
   "cell_type": "code",
   "execution_count": 62,
   "metadata": {
    "ExecuteTime": {
     "end_time": "2024-02-19T12:50:32.917845600Z",
     "start_time": "2024-02-19T12:50:32.913827200Z"
    }
   },
   "outputs": [],
   "source": [
    "from sklearn.feature_extraction.text import TfidfVectorizer"
   ]
  },
  {
   "cell_type": "code",
   "execution_count": 63,
   "metadata": {
    "ExecuteTime": {
     "end_time": "2024-02-19T12:50:32.933018400Z",
     "start_time": "2024-02-19T12:50:32.918850100Z"
    }
   },
   "outputs": [],
   "source": [
    "vectorizer = TfidfVectorizer()"
   ]
  },
  {
   "cell_type": "code",
   "execution_count": 64,
   "metadata": {
    "ExecuteTime": {
     "end_time": "2024-02-19T12:50:34.484533800Z",
     "start_time": "2024-02-19T12:50:32.933018400Z"
    }
   },
   "outputs": [
    {
     "data": {
      "text/plain": "  0%|          | 0/20 [00:00<?, ?it/s]",
      "application/vnd.jupyter.widget-view+json": {
       "version_major": 2,
       "version_minor": 0,
       "model_id": "84d77e5bbfac47b59aff360d533cd595"
      }
     },
     "metadata": {},
     "output_type": "display_data"
    }
   ],
   "source": [
    "texts = []\n",
    "for text in tqdm(dataset[\"text\"]):\n",
    "    texts.append(lemmatizer.lemmatize_text(text))"
   ]
  },
  {
   "cell_type": "code",
   "execution_count": 65,
   "metadata": {
    "ExecuteTime": {
     "end_time": "2024-02-19T12:50:35.520861200Z",
     "start_time": "2024-02-19T12:50:35.514598200Z"
    }
   },
   "outputs": [],
   "source": [
    "X = vectorizer.fit_transform(texts)"
   ]
  },
  {
   "cell_type": "markdown",
   "metadata": {},
   "source": [
    "Count nonzero elements"
   ]
  },
  {
   "cell_type": "code",
   "execution_count": 66,
   "metadata": {
    "ExecuteTime": {
     "end_time": "2024-02-19T12:50:36.031850300Z",
     "start_time": "2024-02-19T12:50:35.938417100Z"
    }
   },
   "outputs": [
    {
     "data": {
      "text/plain": "  0%|          | 0/2983 [00:00<?, ?it/s]",
      "application/vnd.jupyter.widget-view+json": {
       "version_major": 2,
       "version_minor": 0,
       "model_id": "5fda227905e041aca825c87229b367b7"
      }
     },
     "metadata": {},
     "output_type": "display_data"
    }
   ],
   "source": [
    "ans = []\n",
    "for i in trange(X.shape[1]):\n",
    "    ans.append(X.getcol(i).count_nonzero())"
   ]
  },
  {
   "cell_type": "code",
   "execution_count": 67,
   "metadata": {
    "ExecuteTime": {
     "end_time": "2024-02-19T12:50:36.391054400Z",
     "start_time": "2024-02-19T12:50:36.391054400Z"
    }
   },
   "outputs": [],
   "source": [
    "word_nonzero = np.array(ans)"
   ]
  },
  {
   "cell_type": "markdown",
   "metadata": {},
   "source": [
    "Create mask for stop words "
   ]
  },
  {
   "cell_type": "code",
   "execution_count": 68,
   "metadata": {
    "ExecuteTime": {
     "end_time": "2024-02-19T12:50:37.585112600Z",
     "start_time": "2024-02-19T12:50:37.360498500Z"
    }
   },
   "outputs": [],
   "source": [
    "import nltk\n",
    "from nltk.corpus import stopwords"
   ]
  },
  {
   "cell_type": "code",
   "execution_count": 69,
   "metadata": {
    "ExecuteTime": {
     "end_time": "2024-02-19T12:50:37.729452100Z",
     "start_time": "2024-02-19T12:50:37.588098Z"
    }
   },
   "outputs": [
    {
     "name": "stderr",
     "output_type": "stream",
     "text": [
      "[nltk_data] Downloading package stopwords to\n",
      "[nltk_data]     C:\\Users\\znaum\\AppData\\Roaming\\nltk_data...\n",
      "[nltk_data]   Package stopwords is already up-to-date!\n"
     ]
    },
    {
     "data": {
      "text/plain": "True"
     },
     "execution_count": 69,
     "metadata": {},
     "output_type": "execute_result"
    }
   ],
   "source": [
    "nltk.download('stopwords')"
   ]
  },
  {
   "cell_type": "code",
   "execution_count": 70,
   "metadata": {
    "ExecuteTime": {
     "end_time": "2024-02-19T12:50:38.657374400Z",
     "start_time": "2024-02-19T12:50:38.409250200Z"
    }
   },
   "outputs": [],
   "source": [
    "stop_mask = np.array([word in stopwords.words(\"english\") for word in vectorizer.get_feature_names_out()])"
   ]
  },
  {
   "cell_type": "markdown",
   "metadata": {},
   "source": [
    "Get the most frequent termins"
   ]
  },
  {
   "cell_type": "code",
   "execution_count": 71,
   "metadata": {
    "ExecuteTime": {
     "end_time": "2024-02-19T12:50:39.579319200Z",
     "start_time": "2024-02-19T12:50:39.574638300Z"
    }
   },
   "outputs": [],
   "source": [
    "df = pd.DataFrame({\n",
    "    \"word\": vectorizer.get_feature_names_out(),\n",
    "    \"count\": word_nonzero * np.invert(stop_mask)\n",
    "})"
   ]
  },
  {
   "cell_type": "code",
   "execution_count": 72,
   "metadata": {
    "ExecuteTime": {
     "end_time": "2024-02-19T12:50:40.051815500Z",
     "start_time": "2024-02-19T12:50:40.036092800Z"
    }
   },
   "outputs": [],
   "source": [
    "df = df.sort_values(\"count\", ascending=False)"
   ]
  },
  {
   "cell_type": "code",
   "execution_count": 73,
   "metadata": {
    "ExecuteTime": {
     "end_time": "2024-02-19T12:50:40.361280900Z",
     "start_time": "2024-02-19T12:50:40.360553500Z"
    }
   },
   "outputs": [],
   "source": [
    "termins = df[\"word\"][:NUM_TERMINS].to_list()"
   ]
  },
  {
   "cell_type": "markdown",
   "metadata": {},
   "source": [
    "Save the termins"
   ]
  },
  {
   "cell_type": "code",
   "execution_count": 74,
   "metadata": {
    "ExecuteTime": {
     "end_time": "2024-02-19T12:50:40.922324100Z",
     "start_time": "2024-02-19T12:50:40.917694800Z"
    }
   },
   "outputs": [],
   "source": [
    "import json"
   ]
  },
  {
   "cell_type": "code",
   "execution_count": 75,
   "metadata": {
    "ExecuteTime": {
     "end_time": "2024-02-19T12:50:41.405599900Z",
     "start_time": "2024-02-19T12:50:41.405056800Z"
    }
   },
   "outputs": [],
   "source": [
    "json.dump(termins, open(\"./termins.json\", \"w\"))"
   ]
  },
  {
   "cell_type": "markdown",
   "source": [
    "debug"
   ],
   "metadata": {
    "collapsed": false
   }
  },
  {
   "cell_type": "code",
   "execution_count": 3,
   "outputs": [],
   "source": [
    "from datasets import Dataset"
   ],
   "metadata": {
    "collapsed": false,
    "ExecuteTime": {
     "end_time": "2024-02-19T10:59:31.274731100Z",
     "start_time": "2024-02-19T10:59:30.381380500Z"
    }
   }
  },
  {
   "cell_type": "code",
   "execution_count": 48,
   "outputs": [],
   "source": [
    "class args:\n",
    "    parquet = \"./dataset_ua.parquet\"\n",
    "    lang = \"uk\"\n",
    "    stopwords = \"./stopwords/uk.json\"\n",
    "    num = 100\n",
    "    file = \"./termins.json\""
   ],
   "metadata": {
    "collapsed": false,
    "ExecuteTime": {
     "end_time": "2024-02-19T11:11:13.397729800Z",
     "start_time": "2024-02-19T11:11:13.380090Z"
    }
   }
  },
  {
   "cell_type": "code",
   "execution_count": 14,
   "outputs": [],
   "source": [
    "dataset = Dataset.from_parquet(args.parquet)"
   ],
   "metadata": {
    "collapsed": false,
    "ExecuteTime": {
     "end_time": "2024-02-19T11:00:10.104993Z",
     "start_time": "2024-02-19T11:00:10.096772500Z"
    }
   }
  },
  {
   "cell_type": "code",
   "execution_count": 15,
   "outputs": [],
   "source": [
    "from utils.data import Lemmatizer"
   ],
   "metadata": {
    "collapsed": false,
    "ExecuteTime": {
     "end_time": "2024-02-19T11:00:10.274057500Z",
     "start_time": "2024-02-19T11:00:10.272051900Z"
    }
   }
  },
  {
   "cell_type": "code",
   "execution_count": 16,
   "outputs": [],
   "source": [
    "lemmatizer = Lemmatizer(args.lang)"
   ],
   "metadata": {
    "collapsed": false,
    "ExecuteTime": {
     "end_time": "2024-02-19T11:00:19.624019Z",
     "start_time": "2024-02-19T11:00:10.438284600Z"
    }
   }
  },
  {
   "cell_type": "code",
   "execution_count": 18,
   "outputs": [],
   "source": [
    "from sklearn.feature_extraction.text import TfidfVectorizer"
   ],
   "metadata": {
    "collapsed": false,
    "ExecuteTime": {
     "end_time": "2024-02-19T11:00:35.398556600Z",
     "start_time": "2024-02-19T11:00:35.108828500Z"
    }
   }
  },
  {
   "cell_type": "code",
   "execution_count": 19,
   "outputs": [],
   "source": [
    "vectorizer = TfidfVectorizer()"
   ],
   "metadata": {
    "collapsed": false,
    "ExecuteTime": {
     "end_time": "2024-02-19T11:00:35.401695100Z",
     "start_time": "2024-02-19T11:00:35.401146200Z"
    }
   }
  },
  {
   "cell_type": "code",
   "execution_count": 27,
   "outputs": [],
   "source": [
    "from tqdm.auto import tqdm, trange"
   ],
   "metadata": {
    "collapsed": false,
    "ExecuteTime": {
     "end_time": "2024-02-19T11:05:41.384438Z",
     "start_time": "2024-02-19T11:05:41.375932200Z"
    }
   }
  },
  {
   "cell_type": "code",
   "execution_count": 23,
   "outputs": [
    {
     "data": {
      "text/plain": "  0%|          | 0/1919 [00:00<?, ?it/s]",
      "application/vnd.jupyter.widget-view+json": {
       "version_major": 2,
       "version_minor": 0,
       "model_id": "2e9a8d5e800e4fffbb7edf9e44533091"
      }
     },
     "metadata": {},
     "output_type": "display_data"
    }
   ],
   "source": [
    "texts = []\n",
    "for text in tqdm(dataset[\"text\"]):\n",
    "    texts.append(lemmatizer.lemmatize_text(text))"
   ],
   "metadata": {
    "collapsed": false,
    "ExecuteTime": {
     "end_time": "2024-02-19T11:03:04.516041600Z",
     "start_time": "2024-02-19T11:01:05.827091500Z"
    }
   }
  },
  {
   "cell_type": "code",
   "execution_count": 25,
   "outputs": [],
   "source": [
    "X = vectorizer.fit_transform(texts)"
   ],
   "metadata": {
    "collapsed": false,
    "ExecuteTime": {
     "end_time": "2024-02-19T11:05:28.469780100Z",
     "start_time": "2024-02-19T11:05:28.246083200Z"
    }
   }
  },
  {
   "cell_type": "code",
   "execution_count": 29,
   "outputs": [],
   "source": [
    "import numpy as np"
   ],
   "metadata": {
    "collapsed": false,
    "ExecuteTime": {
     "end_time": "2024-02-19T11:07:09.578171200Z",
     "start_time": "2024-02-19T11:07:09.573160400Z"
    }
   }
  },
  {
   "cell_type": "code",
   "execution_count": 30,
   "outputs": [
    {
     "data": {
      "text/plain": "  0%|          | 0/31772 [00:00<?, ?it/s]",
      "application/vnd.jupyter.widget-view+json": {
       "version_major": 2,
       "version_minor": 0,
       "model_id": "5273ac0943d24a5e9bde7fcd306feae1"
      }
     },
     "metadata": {},
     "output_type": "display_data"
    }
   ],
   "source": [
    "ans = []\n",
    "for i in trange(X.shape[1]):\n",
    "    ans.append(X.getcol(i).count_nonzero())\n",
    "word_nonzero = np.array(ans)"
   ],
   "metadata": {
    "collapsed": false,
    "ExecuteTime": {
     "end_time": "2024-02-19T11:07:36.643136300Z",
     "start_time": "2024-02-19T11:07:09.809708600Z"
    }
   }
  },
  {
   "cell_type": "code",
   "execution_count": 34,
   "outputs": [],
   "source": [
    "import json"
   ],
   "metadata": {
    "collapsed": false,
    "ExecuteTime": {
     "end_time": "2024-02-19T11:09:00.719215700Z",
     "start_time": "2024-02-19T11:09:00.716203900Z"
    }
   }
  },
  {
   "cell_type": "code",
   "execution_count": 35,
   "outputs": [],
   "source": [
    "if args.stopwords != \"none\":\n",
    "    stopwords = json.load(open(args.stopwords, \"r\", encoding=\"utf-8\"))\n",
    "    stop_mask = np.array([word in stopwords for word in vectorizer.get_feature_names_out()])\n",
    "else:\n",
    "    stop_mask = np.full(len(vectorizer.get_feature_names_out()), False)"
   ],
   "metadata": {
    "collapsed": false,
    "ExecuteTime": {
     "end_time": "2024-02-19T11:09:01.637495100Z",
     "start_time": "2024-02-19T11:09:01.021441900Z"
    }
   }
  },
  {
   "cell_type": "code",
   "execution_count": 37,
   "outputs": [],
   "source": [
    "import pandas as pd"
   ],
   "metadata": {
    "collapsed": false,
    "ExecuteTime": {
     "end_time": "2024-02-19T11:09:14.528732500Z",
     "start_time": "2024-02-19T11:09:14.516918600Z"
    }
   }
  },
  {
   "cell_type": "code",
   "execution_count": 38,
   "outputs": [],
   "source": [
    "df = pd.DataFrame({\n",
    "    \"word\": vectorizer.get_feature_names_out(),\n",
    "    \"count\": word_nonzero * np.invert(stop_mask)\n",
    "})"
   ],
   "metadata": {
    "collapsed": false,
    "ExecuteTime": {
     "end_time": "2024-02-19T11:09:14.718590400Z",
     "start_time": "2024-02-19T11:09:14.717457900Z"
    }
   }
  },
  {
   "cell_type": "code",
   "execution_count": 45,
   "outputs": [],
   "source": [
    "df = df.sort_values(\"count\", ascending=False)"
   ],
   "metadata": {
    "collapsed": false,
    "ExecuteTime": {
     "end_time": "2024-02-19T11:10:33.062325Z",
     "start_time": "2024-02-19T11:10:33.056418500Z"
    }
   }
  },
  {
   "cell_type": "code",
   "execution_count": 46,
   "outputs": [
    {
     "data": {
      "text/plain": "          word  count\n26991    стати    720\n25082      рок    719\n18526    новий    691\n28798  україна    627\n16366   можний    627\n...        ...    ...\n2899       аби      0\n13076      каф      0\n27973    тепер      0\n19143   одному      0\n11244  замість      0\n\n[31772 rows x 2 columns]",
      "text/html": "<div>\n<style scoped>\n    .dataframe tbody tr th:only-of-type {\n        vertical-align: middle;\n    }\n\n    .dataframe tbody tr th {\n        vertical-align: top;\n    }\n\n    .dataframe thead th {\n        text-align: right;\n    }\n</style>\n<table border=\"1\" class=\"dataframe\">\n  <thead>\n    <tr style=\"text-align: right;\">\n      <th></th>\n      <th>word</th>\n      <th>count</th>\n    </tr>\n  </thead>\n  <tbody>\n    <tr>\n      <th>26991</th>\n      <td>стати</td>\n      <td>720</td>\n    </tr>\n    <tr>\n      <th>25082</th>\n      <td>рок</td>\n      <td>719</td>\n    </tr>\n    <tr>\n      <th>18526</th>\n      <td>новий</td>\n      <td>691</td>\n    </tr>\n    <tr>\n      <th>28798</th>\n      <td>україна</td>\n      <td>627</td>\n    </tr>\n    <tr>\n      <th>16366</th>\n      <td>можний</td>\n      <td>627</td>\n    </tr>\n    <tr>\n      <th>...</th>\n      <td>...</td>\n      <td>...</td>\n    </tr>\n    <tr>\n      <th>2899</th>\n      <td>аби</td>\n      <td>0</td>\n    </tr>\n    <tr>\n      <th>13076</th>\n      <td>каф</td>\n      <td>0</td>\n    </tr>\n    <tr>\n      <th>27973</th>\n      <td>тепер</td>\n      <td>0</td>\n    </tr>\n    <tr>\n      <th>19143</th>\n      <td>одному</td>\n      <td>0</td>\n    </tr>\n    <tr>\n      <th>11244</th>\n      <td>замість</td>\n      <td>0</td>\n    </tr>\n  </tbody>\n</table>\n<p>31772 rows × 2 columns</p>\n</div>"
     },
     "execution_count": 46,
     "metadata": {},
     "output_type": "execute_result"
    }
   ],
   "source": [
    "df"
   ],
   "metadata": {
    "collapsed": false,
    "ExecuteTime": {
     "end_time": "2024-02-19T11:10:37.281393100Z",
     "start_time": "2024-02-19T11:10:37.275383200Z"
    }
   }
  },
  {
   "cell_type": "code",
   "execution_count": 53,
   "outputs": [],
   "source": [
    "termins = df[\"word\"][:args.num].to_list()\n",
    "json.dump(termins, open(args.file, \"w\", encoding=\"utf-8\"))"
   ],
   "metadata": {
    "collapsed": false,
    "ExecuteTime": {
     "end_time": "2024-02-19T11:12:16.341917Z",
     "start_time": "2024-02-19T11:12:16.341411400Z"
    }
   }
  },
  {
   "cell_type": "code",
   "execution_count": null,
   "outputs": [],
   "source": [],
   "metadata": {
    "collapsed": false
   }
  }
 ],
 "metadata": {
  "kernelspec": {
   "display_name": "speech2",
   "language": "python",
   "name": "python3"
  },
  "language_info": {
   "codemirror_mode": {
    "name": "ipython",
    "version": 3
   },
   "file_extension": ".py",
   "mimetype": "text/x-python",
   "name": "python",
   "nbconvert_exporter": "python",
   "pygments_lexer": "ipython3",
   "version": "3.11.7"
  }
 },
 "nbformat": 4,
 "nbformat_minor": 2
}
