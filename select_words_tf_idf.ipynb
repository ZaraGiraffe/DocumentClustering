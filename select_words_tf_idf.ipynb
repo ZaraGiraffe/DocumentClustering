{
 "cells": [
  {
   "cell_type": "code",
   "execution_count": 1,
   "metadata": {},
   "outputs": [],
   "source": [
    "%load_ext autoreload\n",
    "%autoreload 2"
   ]
  },
  {
   "cell_type": "markdown",
   "metadata": {},
   "source": [
    "Important constants"
   ]
  },
  {
   "cell_type": "code",
   "execution_count": 1,
   "metadata": {
    "ExecuteTime": {
     "end_time": "2024-02-12T16:20:58.003586800Z",
     "start_time": "2024-02-12T16:20:58.001579400Z"
    }
   },
   "outputs": [],
   "source": [
    "NUM_TERMINS = 50"
   ]
  },
  {
   "cell_type": "markdown",
   "metadata": {},
   "source": [
    "Some frequently used imports"
   ]
  },
  {
   "cell_type": "code",
   "execution_count": 2,
   "metadata": {
    "ExecuteTime": {
     "end_time": "2024-02-12T16:21:00.180674Z",
     "start_time": "2024-02-12T16:20:59.838269600Z"
    }
   },
   "outputs": [],
   "source": [
    "import numpy as np\n",
    "import pandas as pd"
   ]
  },
  {
   "cell_type": "code",
   "execution_count": 3,
   "metadata": {
    "ExecuteTime": {
     "end_time": "2024-02-12T16:21:00.267551600Z",
     "start_time": "2024-02-12T16:21:00.215553200Z"
    }
   },
   "outputs": [],
   "source": [
    "from tqdm.notebook import trange\n",
    "from tqdm.notebook import tqdm"
   ]
  },
  {
   "cell_type": "markdown",
   "metadata": {},
   "source": [
    "Load the dataset and lemmatizer"
   ]
  },
  {
   "cell_type": "code",
   "execution_count": 4,
   "metadata": {
    "ExecuteTime": {
     "end_time": "2024-02-12T16:21:04.115736600Z",
     "start_time": "2024-02-12T16:21:01.483878600Z"
    }
   },
   "outputs": [],
   "source": [
    "from utils.data import Lemmatizer\n",
    "from utils.loaders import IMDBDataset"
   ]
  },
  {
   "cell_type": "code",
   "execution_count": 5,
   "metadata": {
    "ExecuteTime": {
     "end_time": "2024-02-12T16:21:13.045395800Z",
     "start_time": "2024-02-12T16:21:04.115736600Z"
    }
   },
   "outputs": [],
   "source": [
    "imdb_dataset = IMDBDataset.load()"
   ]
  },
  {
   "cell_type": "code",
   "execution_count": 6,
   "metadata": {
    "ExecuteTime": {
     "end_time": "2024-02-12T16:21:20.949196100Z",
     "start_time": "2024-02-12T16:21:13.046735500Z"
    }
   },
   "outputs": [],
   "source": [
    "lemmatizer = Lemmatizer(\"en\")"
   ]
  },
  {
   "cell_type": "markdown",
   "metadata": {},
   "source": [
    "Fit TfidfVectorizer on the dataset"
   ]
  },
  {
   "cell_type": "code",
   "execution_count": 7,
   "metadata": {
    "ExecuteTime": {
     "end_time": "2024-02-12T16:21:21.488074500Z",
     "start_time": "2024-02-12T16:21:20.949196100Z"
    }
   },
   "outputs": [],
   "source": [
    "from sklearn.feature_extraction.text import TfidfVectorizer"
   ]
  },
  {
   "cell_type": "code",
   "execution_count": 8,
   "metadata": {
    "ExecuteTime": {
     "end_time": "2024-02-12T16:21:21.493305500Z",
     "start_time": "2024-02-12T16:21:21.488074500Z"
    }
   },
   "outputs": [],
   "source": [
    "vectorizer = TfidfVectorizer()"
   ]
  },
  {
   "cell_type": "code",
   "execution_count": 9,
   "metadata": {
    "ExecuteTime": {
     "end_time": "2024-02-12T16:29:52.956378500Z",
     "start_time": "2024-02-12T16:21:21.493305500Z"
    }
   },
   "outputs": [
    {
     "data": {
      "text/plain": "  0%|          | 0/25000 [00:00<?, ?it/s]",
      "application/vnd.jupyter.widget-view+json": {
       "version_major": 2,
       "version_minor": 0,
       "model_id": "23a322e88e6443e5a8b9924cb19fcc58"
      }
     },
     "metadata": {},
     "output_type": "display_data"
    }
   ],
   "source": [
    "texts = []\n",
    "for text in tqdm(imdb_dataset[\"train\"][\"text\"]):\n",
    "    texts.append(lemmatizer.lemmatize_text(text))"
   ]
  },
  {
   "cell_type": "code",
   "execution_count": 10,
   "metadata": {
    "ExecuteTime": {
     "end_time": "2024-02-12T16:29:56.695431600Z",
     "start_time": "2024-02-12T16:29:54.551306600Z"
    }
   },
   "outputs": [],
   "source": [
    "X = vectorizer.fit_transform(texts)"
   ]
  },
  {
   "cell_type": "markdown",
   "metadata": {},
   "source": [
    "Count nonzero elements"
   ]
  },
  {
   "cell_type": "code",
   "execution_count": 11,
   "metadata": {
    "ExecuteTime": {
     "end_time": "2024-02-12T16:38:58.201448200Z",
     "start_time": "2024-02-12T16:29:57.624415100Z"
    }
   },
   "outputs": [
    {
     "data": {
      "text/plain": "  0%|          | 0/61782 [00:00<?, ?it/s]",
      "application/vnd.jupyter.widget-view+json": {
       "version_major": 2,
       "version_minor": 0,
       "model_id": "d61345ee46d94f17ad528fed25d024cb"
      }
     },
     "metadata": {},
     "output_type": "display_data"
    }
   ],
   "source": [
    "ans = []\n",
    "for i in trange(X.shape[1]):\n",
    "    ans.append(X.getcol(i).count_nonzero())"
   ]
  },
  {
   "cell_type": "code",
   "execution_count": 12,
   "metadata": {
    "ExecuteTime": {
     "end_time": "2024-02-12T16:48:53.999916600Z",
     "start_time": "2024-02-12T16:48:53.993824500Z"
    }
   },
   "outputs": [],
   "source": [
    "word_nonzero = np.array(ans)"
   ]
  },
  {
   "cell_type": "markdown",
   "metadata": {},
   "source": [
    "Create mask for stop words "
   ]
  },
  {
   "cell_type": "code",
   "execution_count": 13,
   "metadata": {
    "ExecuteTime": {
     "end_time": "2024-02-12T16:48:56.101885100Z",
     "start_time": "2024-02-12T16:48:55.739787800Z"
    }
   },
   "outputs": [],
   "source": [
    "import nltk\n",
    "from nltk.corpus import stopwords"
   ]
  },
  {
   "cell_type": "code",
   "execution_count": 14,
   "metadata": {
    "ExecuteTime": {
     "end_time": "2024-02-12T16:48:56.257673200Z",
     "start_time": "2024-02-12T16:48:56.103389200Z"
    }
   },
   "outputs": [
    {
     "name": "stderr",
     "output_type": "stream",
     "text": [
      "[nltk_data] Downloading package stopwords to\n",
      "[nltk_data]     C:\\Users\\znaum\\AppData\\Roaming\\nltk_data...\n",
      "[nltk_data]   Package stopwords is already up-to-date!\n"
     ]
    },
    {
     "data": {
      "text/plain": "True"
     },
     "execution_count": 14,
     "metadata": {},
     "output_type": "execute_result"
    }
   ],
   "source": [
    "nltk.download('stopwords')"
   ]
  },
  {
   "cell_type": "code",
   "execution_count": 15,
   "metadata": {
    "ExecuteTime": {
     "end_time": "2024-02-12T16:49:02.664511300Z",
     "start_time": "2024-02-12T16:48:57.867710300Z"
    }
   },
   "outputs": [],
   "source": [
    "stop_mask = np.array([word in stopwords.words(\"english\") for word in vectorizer.get_feature_names_out()])"
   ]
  },
  {
   "cell_type": "markdown",
   "metadata": {},
   "source": [
    "Get the most frequent termins"
   ]
  },
  {
   "cell_type": "code",
   "execution_count": 16,
   "metadata": {
    "ExecuteTime": {
     "end_time": "2024-02-12T16:49:03.542166700Z",
     "start_time": "2024-02-12T16:49:03.401887200Z"
    }
   },
   "outputs": [],
   "source": [
    "df = pd.DataFrame({\n",
    "    \"word\": vectorizer.get_feature_names_out(),\n",
    "    \"count\": word_nonzero * np.invert(stop_mask)\n",
    "})"
   ]
  },
  {
   "cell_type": "code",
   "execution_count": 17,
   "metadata": {
    "ExecuteTime": {
     "end_time": "2024-02-12T16:49:04.049371200Z",
     "start_time": "2024-02-12T16:49:04.037703100Z"
    }
   },
   "outputs": [],
   "source": [
    "df = df.sort_values(\"count\", ascending=False)"
   ]
  },
  {
   "cell_type": "code",
   "execution_count": 18,
   "metadata": {
    "ExecuteTime": {
     "end_time": "2024-02-12T16:49:04.386703300Z",
     "start_time": "2024-02-12T16:49:04.386703300Z"
    }
   },
   "outputs": [],
   "source": [
    "termins = df[\"word\"][:NUM_TERMINS].to_list()"
   ]
  },
  {
   "cell_type": "markdown",
   "metadata": {},
   "source": [
    "Save the termins"
   ]
  },
  {
   "cell_type": "code",
   "execution_count": 19,
   "metadata": {
    "ExecuteTime": {
     "end_time": "2024-02-12T16:49:06.278031500Z",
     "start_time": "2024-02-12T16:49:06.277525800Z"
    }
   },
   "outputs": [],
   "source": [
    "import json"
   ]
  },
  {
   "cell_type": "code",
   "execution_count": 20,
   "metadata": {
    "ExecuteTime": {
     "end_time": "2024-02-12T16:49:07.376954800Z",
     "start_time": "2024-02-12T16:49:07.373693900Z"
    }
   },
   "outputs": [],
   "source": [
    "json.dump(termins, open(\"./termins.json\", \"w\"))"
   ]
  },
  {
   "cell_type": "code",
   "execution_count": null,
   "outputs": [],
   "source": [],
   "metadata": {
    "collapsed": false
   }
  }
 ],
 "metadata": {
  "kernelspec": {
   "display_name": "speech2",
   "language": "python",
   "name": "python3"
  },
  "language_info": {
   "codemirror_mode": {
    "name": "ipython",
    "version": 3
   },
   "file_extension": ".py",
   "mimetype": "text/x-python",
   "name": "python",
   "nbconvert_exporter": "python",
   "pygments_lexer": "ipython3",
   "version": "3.11.7"
  }
 },
 "nbformat": 4,
 "nbformat_minor": 2
}
