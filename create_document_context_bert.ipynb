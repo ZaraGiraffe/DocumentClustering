{
 "cells": [
  {
   "cell_type": "code",
   "execution_count": 1,
   "metadata": {
    "ExecuteTime": {
     "end_time": "2024-02-12T17:05:11.445878300Z",
     "start_time": "2024-02-12T17:05:08.894299800Z"
    }
   },
   "outputs": [],
   "source": [
    "from utils.data import Lemmatizer\n",
    "from utils.loaders import IMDBDataset\n",
    "import logging\n",
    "import json"
   ]
  },
  {
   "cell_type": "code",
   "execution_count": 2,
   "metadata": {
    "ExecuteTime": {
     "end_time": "2024-02-12T17:05:11.451866200Z",
     "start_time": "2024-02-12T17:05:11.448160800Z"
    }
   },
   "outputs": [],
   "source": [
    "import numpy as np\n",
    "import torch"
   ]
  },
  {
   "cell_type": "code",
   "execution_count": 3,
   "metadata": {
    "ExecuteTime": {
     "end_time": "2024-02-12T17:05:12.090641400Z",
     "start_time": "2024-02-12T17:05:11.451866200Z"
    }
   },
   "outputs": [],
   "source": [
    "import datasets\n",
    "import transformers\n",
    "from transformers import BertTokenizerFast, BertModel\n",
    "from tqdm.auto import trange, tqdm"
   ]
  },
  {
   "cell_type": "code",
   "execution_count": 4,
   "outputs": [],
   "source": [
    "from utils.bert import get_embeddings_from_sentence, get_embeddings_from_document"
   ],
   "metadata": {
    "collapsed": false,
    "ExecuteTime": {
     "end_time": "2024-02-12T17:05:12.094793100Z",
     "start_time": "2024-02-12T17:05:12.090641400Z"
    }
   }
  },
  {
   "cell_type": "code",
   "execution_count": 5,
   "outputs": [],
   "source": [
    "from utils.clustering import BertHierarchicalClustering, BertCluster"
   ],
   "metadata": {
    "collapsed": false,
    "ExecuteTime": {
     "end_time": "2024-02-12T17:05:12.112160300Z",
     "start_time": "2024-02-12T17:05:12.095796200Z"
    }
   }
  },
  {
   "cell_type": "code",
   "execution_count": 6,
   "outputs": [],
   "source": [
    "imdb_dataset = IMDBDataset.load()\n",
    "model = BertModel.from_pretrained(\"bert-base-uncased\")\n",
    "tokenizer = BertTokenizerFast.from_pretrained(\"bert-base-uncased\")\n",
    "lemmatizer = Lemmatizer(\"en\")\n",
    "termins = json.load(open(\"termins.json\"))"
   ],
   "metadata": {
    "collapsed": false,
    "ExecuteTime": {
     "end_time": "2024-02-12T17:05:30.529445200Z",
     "start_time": "2024-02-12T17:05:12.113668500Z"
    }
   }
  },
  {
   "cell_type": "code",
   "execution_count": 7,
   "outputs": [
    {
     "data": {
      "text/plain": "  0%|          | 0/20 [00:00<?, ?it/s]",
      "application/vnd.jupyter.widget-view+json": {
       "version_major": 2,
       "version_minor": 0,
       "model_id": "0720e9ddc6f14e69871b6c341f1566a3"
      }
     },
     "metadata": {},
     "output_type": "display_data"
    }
   ],
   "source": [
    "N = 20\n",
    "hierarchical_clustering = BertHierarchicalClustering()\n",
    "\n",
    "for i in tqdm(list(range(0, 10)) + list(range(12600, 12610))):\n",
    "    embeddings = get_embeddings_from_document(imdb_dataset[\"train\"][i][\"text\"], model, tokenizer, lemmatizer, termins)\n",
    "    label = 0 if i < 12500 else 1\n",
    "    cluster = BertCluster(embeddings, i, label)\n",
    "    hierarchical_clustering.add_cluster(cluster)"
   ],
   "metadata": {
    "collapsed": false,
    "ExecuteTime": {
     "end_time": "2024-02-12T17:05:53.053977500Z",
     "start_time": "2024-02-12T17:05:30.529445200Z"
    }
   }
  },
  {
   "cell_type": "code",
   "execution_count": 8,
   "outputs": [
    {
     "data": {
      "text/plain": "  0%|          | 0/18 [00:00<?, ?it/s]",
      "application/vnd.jupyter.widget-view+json": {
       "version_major": 2,
       "version_minor": 0,
       "model_id": "28c013d0a8694130a77457f5ac70a1af"
      }
     },
     "metadata": {},
     "output_type": "display_data"
    }
   ],
   "source": [
    "hierarchical_clustering.make_clusters(2)"
   ],
   "metadata": {
    "collapsed": false,
    "ExecuteTime": {
     "end_time": "2024-02-12T17:06:07.086303900Z",
     "start_time": "2024-02-12T17:05:53.053977500Z"
    }
   }
  },
  {
   "cell_type": "code",
   "execution_count": 9,
   "outputs": [],
   "source": [
    "cluster_1, cluster_2 = hierarchical_clustering.clusters.values()"
   ],
   "metadata": {
    "collapsed": false,
    "ExecuteTime": {
     "end_time": "2024-02-12T17:06:07.092387300Z",
     "start_time": "2024-02-12T17:06:07.089279900Z"
    }
   }
  },
  {
   "cell_type": "code",
   "execution_count": 10,
   "outputs": [
    {
     "name": "stdout",
     "output_type": "stream",
     "text": [
      "[1]\n",
      "[0, 1, 1, 1, 1, 0, 0, 1, 1, 1, 0, 1, 0, 0, 0, 1, 0, 0, 0]\n"
     ]
    }
   ],
   "source": [
    "print(cluster_1.labels)\n",
    "print(cluster_2.labels)"
   ],
   "metadata": {
    "collapsed": false,
    "ExecuteTime": {
     "end_time": "2024-02-12T17:06:07.109007100Z",
     "start_time": "2024-02-12T17:06:07.092387300Z"
    }
   }
  },
  {
   "cell_type": "code",
   "execution_count": null,
   "outputs": [],
   "source": [],
   "metadata": {
    "collapsed": false
   }
  }
 ],
 "metadata": {
  "kernelspec": {
   "display_name": "speech2",
   "language": "python",
   "name": "python3"
  },
  "language_info": {
   "codemirror_mode": {
    "name": "ipython",
    "version": 3
   },
   "file_extension": ".py",
   "mimetype": "text/x-python",
   "name": "python",
   "nbconvert_exporter": "python",
   "pygments_lexer": "ipython3",
   "version": "3.11.7"
  }
 },
 "nbformat": 4,
 "nbformat_minor": 2
}
